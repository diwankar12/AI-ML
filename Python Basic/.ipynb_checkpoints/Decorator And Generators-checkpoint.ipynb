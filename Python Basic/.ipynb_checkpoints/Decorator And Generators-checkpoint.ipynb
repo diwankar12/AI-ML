{
 "cells": [
  {
   "cell_type": "code",
   "execution_count": 1,
   "id": "efadc5c2",
   "metadata": {},
   "outputs": [],
   "source": [
    "#define a function "
   ]
  },
  {
   "cell_type": "code",
   "execution_count": 2,
   "id": "dac169e0",
   "metadata": {},
   "outputs": [],
   "source": [
    "def new_decorator(func):\n",
    "    \n",
    "    def some_func():\n",
    "        \n",
    "        print(\"inside some_func\")\n",
    "        \n",
    "        func()\n",
    "        \n",
    "        print(\"still inside , executing last line\")\n",
    "    \n",
    "    return some_func "
   ]
  },
  {
   "cell_type": "code",
   "execution_count": 3,
   "id": "39c53ad5",
   "metadata": {},
   "outputs": [],
   "source": [
    "def greet():\n",
    "    print('Hello !!!')"
   ]
  },
  {
   "cell_type": "code",
   "execution_count": 5,
   "id": "525d2477",
   "metadata": {},
   "outputs": [],
   "source": [
    "func = new_decorator(greet)"
   ]
  },
  {
   "cell_type": "code",
   "execution_count": 10,
   "id": "a0a4923e",
   "metadata": {},
   "outputs": [
    {
     "name": "stdout",
     "output_type": "stream",
     "text": [
      "inside some_func\n",
      "Hello !!!\n",
      "still inside , executing last line\n"
     ]
    }
   ],
   "source": [
    "func()"
   ]
  },
  {
   "cell_type": "code",
   "execution_count": 11,
   "id": "6944ba5b",
   "metadata": {},
   "outputs": [],
   "source": [
    "@new_decorator\n",
    "def greet():\n",
    "    print('Hello !!!')"
   ]
  },
  {
   "cell_type": "code",
   "execution_count": 12,
   "id": "e26e27b1",
   "metadata": {},
   "outputs": [
    {
     "name": "stdout",
     "output_type": "stream",
     "text": [
      "inside some_func\n",
      "Hello !!!\n",
      "still inside , executing last line\n"
     ]
    }
   ],
   "source": [
    "greet()"
   ]
  },
  {
   "cell_type": "code",
   "execution_count": 13,
   "id": "63d5364c",
   "metadata": {},
   "outputs": [],
   "source": [
    "x, y = 45, \"Great\""
   ]
  },
  {
   "cell_type": "code",
   "execution_count": 14,
   "id": "0a4e1046",
   "metadata": {},
   "outputs": [
    {
     "data": {
      "text/plain": [
       "'Great'"
      ]
     },
     "execution_count": 14,
     "metadata": {},
     "output_type": "execute_result"
    }
   ],
   "source": [
    "y"
   ]
  },
  {
   "cell_type": "code",
   "execution_count": 15,
   "id": "a7c380c0",
   "metadata": {},
   "outputs": [],
   "source": [
    "a = 1+5j\n"
   ]
  },
  {
   "cell_type": "code",
   "execution_count": 16,
   "id": "5dfe2090",
   "metadata": {},
   "outputs": [
    {
     "data": {
      "text/plain": [
       "complex"
      ]
     },
     "execution_count": 16,
     "metadata": {},
     "output_type": "execute_result"
    }
   ],
   "source": [
    "type(a)"
   ]
  },
  {
   "cell_type": "code",
   "execution_count": 17,
   "id": "fecb542c",
   "metadata": {},
   "outputs": [
    {
     "data": {
      "text/plain": [
       "'PythonPython'"
      ]
     },
     "execution_count": 17,
     "metadata": {},
     "output_type": "execute_result"
    }
   ],
   "source": [
    "string = \"Python\"\n",
    "string*2"
   ]
  },
  {
   "cell_type": "code",
   "execution_count": 18,
   "id": "7bf5686a",
   "metadata": {},
   "outputs": [],
   "source": [
    "#generators"
   ]
  },
  {
   "cell_type": "code",
   "execution_count": 21,
   "id": "f2b84785",
   "metadata": {},
   "outputs": [],
   "source": [
    "def gen_ex(n):\n",
    "    for val in n:\n",
    "        yield val**3"
   ]
  },
  {
   "cell_type": "code",
   "execution_count": 22,
   "id": "7b1d9f04",
   "metadata": {},
   "outputs": [
    {
     "data": {
      "text/plain": [
       "<generator object gen_ex at 0x10fbc8ad0>"
      ]
     },
     "execution_count": 22,
     "metadata": {},
     "output_type": "execute_result"
    }
   ],
   "source": [
    "gen_ex(3)"
   ]
  },
  {
   "cell_type": "code",
   "execution_count": null,
   "id": "28be7b65",
   "metadata": {},
   "outputs": [],
   "source": []
  }
 ],
 "metadata": {
  "kernelspec": {
   "display_name": "Python 3 (ipykernel)",
   "language": "python",
   "name": "python3"
  },
  "language_info": {
   "codemirror_mode": {
    "name": "ipython",
    "version": 3
   },
   "file_extension": ".py",
   "mimetype": "text/x-python",
   "name": "python",
   "nbconvert_exporter": "python",
   "pygments_lexer": "ipython3",
   "version": "3.11.4"
  }
 },
 "nbformat": 4,
 "nbformat_minor": 5
}
