{
 "cells": [
  {
   "cell_type": "code",
   "execution_count": 1,
   "id": "2e2e5634",
   "metadata": {},
   "outputs": [
    {
     "data": {
      "text/plain": [
       "2"
      ]
     },
     "execution_count": 1,
     "metadata": {},
     "output_type": "execute_result"
    }
   ],
   "source": [
    "1+1\n"
   ]
  },
  {
   "cell_type": "code",
   "execution_count": 2,
   "id": "7cdf5dbb",
   "metadata": {},
   "outputs": [
    {
     "data": {
      "text/plain": [
       "'r'"
      ]
     },
     "execution_count": 2,
     "metadata": {},
     "output_type": "execute_result"
    }
   ],
   "source": [
    "s = \"diwankar\"\n",
    "s[-1]"
   ]
  },
  {
   "cell_type": "code",
   "execution_count": 3,
   "id": "eae8a627",
   "metadata": {},
   "outputs": [
    {
     "data": {
      "text/plain": [
       "'d'"
      ]
     },
     "execution_count": 3,
     "metadata": {},
     "output_type": "execute_result"
    }
   ],
   "source": [
    "s[0]"
   ]
  },
  {
   "cell_type": "code",
   "execution_count": 4,
   "id": "0693c8bd",
   "metadata": {},
   "outputs": [
    {
     "data": {
      "text/plain": [
       "'i'"
      ]
     },
     "execution_count": 4,
     "metadata": {},
     "output_type": "execute_result"
    }
   ],
   "source": [
    "s[1:2]\n"
   ]
  },
  {
   "cell_type": "code",
   "execution_count": 6,
   "id": "31053255",
   "metadata": {},
   "outputs": [
    {
     "data": {
      "text/plain": [
       "'iwa'"
      ]
     },
     "execution_count": 6,
     "metadata": {},
     "output_type": "execute_result"
    }
   ],
   "source": [
    "s[1:4]"
   ]
  },
  {
   "cell_type": "code",
   "execution_count": 9,
   "id": "54cb079d",
   "metadata": {},
   "outputs": [
    {
     "name": "stdout",
     "output_type": "stream",
     "text": [
      "hello \tworld\n"
     ]
    }
   ],
   "source": [
    "print(\"hello \\tworld\")"
   ]
  },
  {
   "cell_type": "code",
   "execution_count": 10,
   "id": "176c0b6b",
   "metadata": {},
   "outputs": [
    {
     "data": {
      "text/plain": [
       "'raknawid'"
      ]
     },
     "execution_count": 10,
     "metadata": {},
     "output_type": "execute_result"
    }
   ],
   "source": [
    "s[::-1]"
   ]
  },
  {
   "cell_type": "code",
   "execution_count": 14,
   "id": "89847e9c",
   "metadata": {},
   "outputs": [],
   "source": [
    "x=  \"hello world\""
   ]
  },
  {
   "cell_type": "code",
   "execution_count": 16,
   "id": "ed0a6e17",
   "metadata": {},
   "outputs": [
    {
     "data": {
      "text/plain": [
       "['hello', 'world']"
      ]
     },
     "execution_count": 16,
     "metadata": {},
     "output_type": "execute_result"
    }
   ],
   "source": [
    "x.split()"
   ]
  },
  {
   "cell_type": "code",
   "execution_count": 17,
   "id": "e7cc57a0",
   "metadata": {},
   "outputs": [],
   "source": [
    "result = 100/77\n"
   ]
  },
  {
   "cell_type": "code",
   "execution_count": 18,
   "id": "271afe23",
   "metadata": {},
   "outputs": [
    {
     "data": {
      "text/plain": [
       "1.2987012987012987"
      ]
     },
     "execution_count": 18,
     "metadata": {},
     "output_type": "execute_result"
    }
   ],
   "source": [
    "result\n"
   ]
  },
  {
   "cell_type": "code",
   "execution_count": 24,
   "id": "9633c9cd",
   "metadata": {},
   "outputs": [
    {
     "name": "stdout",
     "output_type": "stream",
     "text": [
      "the result is 1.2987\n"
     ]
    }
   ],
   "source": [
    "print(\"the result is {r:0.4f}\".format(r=result))"
   ]
  },
  {
   "cell_type": "code",
   "execution_count": 25,
   "id": "b9554ab8",
   "metadata": {},
   "outputs": [],
   "source": [
    "myList = [\"one\",1,2.0,\"three\"]\n"
   ]
  },
  {
   "cell_type": "code",
   "execution_count": 26,
   "id": "de0a902c",
   "metadata": {},
   "outputs": [
    {
     "ename": "TypeError",
     "evalue": "'<' not supported between instances of 'int' and 'str'",
     "output_type": "error",
     "traceback": [
      "\u001b[0;31m---------------------------------------------------------------------------\u001b[0m",
      "\u001b[0;31mTypeError\u001b[0m                                 Traceback (most recent call last)",
      "Cell \u001b[0;32mIn[26], line 1\u001b[0m\n\u001b[0;32m----> 1\u001b[0m myList\u001b[38;5;241m.\u001b[39msort()\n",
      "\u001b[0;31mTypeError\u001b[0m: '<' not supported between instances of 'int' and 'str'"
     ]
    }
   ],
   "source": [
    "myList.sort()"
   ]
  },
  {
   "cell_type": "code",
   "execution_count": 27,
   "id": "c162c074",
   "metadata": {},
   "outputs": [],
   "source": [
    "my_list = [\"one\",\"two\",\"apple\"]\n"
   ]
  },
  {
   "cell_type": "code",
   "execution_count": 29,
   "id": "5e0c3acb",
   "metadata": {},
   "outputs": [],
   "source": [
    "my_list.sort()"
   ]
  },
  {
   "cell_type": "code",
   "execution_count": 30,
   "id": "0aedc294",
   "metadata": {},
   "outputs": [
    {
     "data": {
      "text/plain": [
       "['apple', 'one', 'two']"
      ]
     },
     "execution_count": 30,
     "metadata": {},
     "output_type": "execute_result"
    }
   ],
   "source": [
    "my_list"
   ]
  },
  {
   "cell_type": "code",
   "execution_count": 31,
   "id": "128049b2",
   "metadata": {},
   "outputs": [],
   "source": [
    "my_list.reverse()\n"
   ]
  },
  {
   "cell_type": "code",
   "execution_count": 32,
   "id": "9e9bb252",
   "metadata": {},
   "outputs": [
    {
     "data": {
      "text/plain": [
       "'two'"
      ]
     },
     "execution_count": 32,
     "metadata": {},
     "output_type": "execute_result"
    }
   ],
   "source": [
    "my_list.pop(0)"
   ]
  },
  {
   "cell_type": "code",
   "execution_count": 33,
   "id": "b5f39b57",
   "metadata": {},
   "outputs": [],
   "source": [
    "my_list.append(\"oranges\")"
   ]
  },
  {
   "cell_type": "code",
   "execution_count": 34,
   "id": "3587119a",
   "metadata": {},
   "outputs": [
    {
     "data": {
      "text/plain": [
       "['one', 'apple', 'oranges']"
      ]
     },
     "execution_count": 34,
     "metadata": {},
     "output_type": "execute_result"
    }
   ],
   "source": [
    "my_list"
   ]
  },
  {
   "cell_type": "code",
   "execution_count": 35,
   "id": "f433ee44",
   "metadata": {},
   "outputs": [],
   "source": [
    "ls = [1,1,[1,2]]"
   ]
  },
  {
   "cell_type": "code",
   "execution_count": 36,
   "id": "ebb7a703",
   "metadata": {},
   "outputs": [
    {
     "data": {
      "text/plain": [
       "list"
      ]
     },
     "execution_count": 36,
     "metadata": {},
     "output_type": "execute_result"
    }
   ],
   "source": [
    "type(ls)"
   ]
  },
  {
   "cell_type": "code",
   "execution_count": 41,
   "id": "2a8d2b16",
   "metadata": {},
   "outputs": [
    {
     "data": {
      "text/plain": [
       "2"
      ]
     },
     "execution_count": 41,
     "metadata": {},
     "output_type": "execute_result"
    }
   ],
   "source": [
    "ls[2][1]"
   ]
  },
  {
   "cell_type": "code",
   "execution_count": 38,
   "id": "133567ce",
   "metadata": {},
   "outputs": [
    {
     "data": {
      "text/plain": [
       "[1, 2]"
      ]
     },
     "execution_count": 38,
     "metadata": {},
     "output_type": "execute_result"
    }
   ],
   "source": [
    "ls[2]"
   ]
  },
  {
   "cell_type": "code",
   "execution_count": 39,
   "id": "ba42f604",
   "metadata": {},
   "outputs": [],
   "source": [
    "getLs = ls[2]"
   ]
  },
  {
   "cell_type": "code",
   "execution_count": 40,
   "id": "420dfd93",
   "metadata": {},
   "outputs": [
    {
     "data": {
      "text/plain": [
       "2"
      ]
     },
     "execution_count": 40,
     "metadata": {},
     "output_type": "execute_result"
    }
   ],
   "source": [
    "getLs[1]"
   ]
  },
  {
   "cell_type": "code",
   "execution_count": 42,
   "id": "dea6bc9d",
   "metadata": {},
   "outputs": [
    {
     "data": {
      "text/plain": [
       "'/Users/bhavanakajal/Python Learning'"
      ]
     },
     "execution_count": 42,
     "metadata": {},
     "output_type": "execute_result"
    }
   ],
   "source": [
    "pwd\n"
   ]
  },
  {
   "cell_type": "code",
   "execution_count": 43,
   "id": "0991eb48",
   "metadata": {},
   "outputs": [],
   "source": [
    "with open('/Users/bhavanakajal/Python Learning/test.txt',mode='w+') as f:\n",
    "    f.write(\"test file \\n test line line 2\")\n",
    "    "
   ]
  },
  {
   "cell_type": "code",
   "execution_count": 46,
   "id": "805fda43",
   "metadata": {},
   "outputs": [
    {
     "data": {
      "text/plain": [
       "['test file \\n', ' test line line 2']"
      ]
     },
     "execution_count": 46,
     "metadata": {},
     "output_type": "execute_result"
    }
   ],
   "source": [
    "open('test.txt').readlines()"
   ]
  },
  {
   "cell_type": "code",
   "execution_count": 49,
   "id": "c41564b4",
   "metadata": {},
   "outputs": [
    {
     "name": "stdout",
     "output_type": "stream",
     "text": [
      "1\n",
      "2\n",
      "3\n"
     ]
    }
   ],
   "source": [
    "my_iter = [1,2,3]\n",
    "\n",
    "for item in my_iter:\n",
    "    print(item)"
   ]
  },
  {
   "cell_type": "code",
   "execution_count": 51,
   "id": "b66fa266",
   "metadata": {},
   "outputs": [
    {
     "name": "stdout",
     "output_type": "stream",
     "text": [
      "a\n",
      "b\n",
      "c\n",
      "j\n",
      "s\n",
      "l\n",
      "j\n",
      "d\n",
      "k\n",
      "s\n"
     ]
    }
   ],
   "source": [
    "item = \"abcjsljdks\"\n",
    "\n",
    "for idx,ch in enumerate(item):\n",
    "    print(ch)"
   ]
  },
  {
   "cell_type": "code",
   "execution_count": 53,
   "id": "705018ee",
   "metadata": {},
   "outputs": [],
   "source": [
    "ls = range(0,6)"
   ]
  },
  {
   "cell_type": "code",
   "execution_count": 54,
   "id": "dcb031bf",
   "metadata": {},
   "outputs": [
    {
     "data": {
      "text/plain": [
       "range(0, 6)"
      ]
     },
     "execution_count": 54,
     "metadata": {},
     "output_type": "execute_result"
    }
   ],
   "source": [
    "ls"
   ]
  },
  {
   "cell_type": "code",
   "execution_count": 56,
   "id": "1272be0d",
   "metadata": {},
   "outputs": [
    {
     "data": {
      "text/plain": [
       "range(0, 6)"
      ]
     },
     "execution_count": 56,
     "metadata": {},
     "output_type": "execute_result"
    }
   ],
   "source": [
    "range(6)"
   ]
  },
  {
   "cell_type": "code",
   "execution_count": 60,
   "id": "b1dd6982",
   "metadata": {},
   "outputs": [],
   "source": [
    "ls = [0,1,2,3,4]\n",
    "\n",
    "fr = [x**2 for x in ls if x%2==0]\n",
    "\n"
   ]
  },
  {
   "cell_type": "code",
   "execution_count": 61,
   "id": "c5924722",
   "metadata": {},
   "outputs": [
    {
     "data": {
      "text/plain": [
       "[0, 4, 16]"
      ]
     },
     "execution_count": 61,
     "metadata": {},
     "output_type": "execute_result"
    }
   ],
   "source": [
    "fr"
   ]
  },
  {
   "cell_type": "code",
   "execution_count": 71,
   "id": "60251048",
   "metadata": {},
   "outputs": [
    {
     "name": "stdout",
     "output_type": "stream",
     "text": [
      "*******************Question 1********************\n",
      "starts\n",
      "s\n",
      "sentence\n",
      "*******************Question 2********************\n",
      "0\n",
      "2\n",
      "4\n",
      "6\n",
      "8\n",
      "*******************Question 3********************\n",
      "*******************Question 4********************\n",
      "letter\n",
      "in\n",
      "this\n",
      "sentence\n",
      "that\n",
      "an\n",
      "even\n",
      "number\n",
      "of\n",
      "*******************Question 5********************\n",
      "*******************Question 6********************\n"
     ]
    },
    {
     "data": {
      "text/plain": [
       "['c', 'a', 'l', 'o', 'f', 'l', 'o', 'e', 'w', 'i', 't', 's']"
      ]
     },
     "execution_count": 71,
     "metadata": {},
     "output_type": "execute_result"
    }
   ],
   "source": [
    "# assessment test\n",
    "print(\"*******************Question 1********************\")\n",
    "s = \"print only the words that starts with s in this sentence\"\n",
    "s=s.split()\n",
    "for word in s:\n",
    "    if word.startswith('s'):\n",
    "        print(word)\n",
    "\n",
    "print(\"*******************Question 2********************\")\n",
    "for x in range(0,10):\n",
    "    if x%2==0:\n",
    "        print(x)\n",
    "\n",
    "print(\"*******************Question 3********************\")\n",
    "\n",
    "ls = [num for num in range(0,50) if num%3==0]\n",
    "ls\n",
    "\n",
    "print(\"*******************Question 4********************\")\n",
    "\n",
    "words = \"print every letter in this sentence that has an even number of letters\"\n",
    "words=words.split();\n",
    "for word in words:\n",
    "    if len(word)%2==0:\n",
    "        print(word)\n",
    "\n",
    "print(\"*******************Question 5********************\")\n",
    "print(\"*******************Question 6********************\")\n",
    "\n",
    "st = \"create a list of first letters of every word in this string\"\n",
    "\n",
    "ans = [w[0] for w in st.split()]\n",
    "ans\n",
    "\n"
   ]
  },
  {
   "cell_type": "code",
   "execution_count": 73,
   "id": "f83d6e31",
   "metadata": {},
   "outputs": [
    {
     "data": {
      "text/plain": [
       "[0, 2, 4, 6, 8]"
      ]
     },
     "execution_count": 73,
     "metadata": {},
     "output_type": "execute_result"
    }
   ],
   "source": [
    "num = list(range(0,10,2))\n",
    "num"
   ]
  },
  {
   "cell_type": "code",
   "execution_count": 74,
   "id": "206fee88",
   "metadata": {},
   "outputs": [],
   "source": [
    "work_hours = [('Abby',7000),('Mac',1000),('Billy',2000)]"
   ]
  },
  {
   "cell_type": "code",
   "execution_count": 75,
   "id": "5152ae0b",
   "metadata": {},
   "outputs": [],
   "source": [
    "def employee_check(work_hours):\n",
    "    current_max=0;\n",
    "    employee_of_month=''\n",
    "    for employee,hours in work_hours:\n",
    "        if hours>current_max:\n",
    "            current_max=hours \n",
    "            employee_of_month=employee\n",
    "        else :\n",
    "            pass \n",
    "    return (employee_of_month,current_max)    \n",
    "        "
   ]
  },
  {
   "cell_type": "code",
   "execution_count": 76,
   "id": "d1c34061",
   "metadata": {},
   "outputs": [],
   "source": [
    "result = employee_check(work_hours)"
   ]
  },
  {
   "cell_type": "code",
   "execution_count": 77,
   "id": "eac3bc48",
   "metadata": {},
   "outputs": [
    {
     "data": {
      "text/plain": [
       "('Abby', 7000)"
      ]
     },
     "execution_count": 77,
     "metadata": {},
     "output_type": "execute_result"
    }
   ],
   "source": [
    "result"
   ]
  },
  {
   "cell_type": "code",
   "execution_count": 78,
   "id": "8877b751",
   "metadata": {},
   "outputs": [],
   "source": [
    "### Game , Interation between functions "
   ]
  },
  {
   "cell_type": "code",
   "execution_count": 80,
   "id": "871dd75a",
   "metadata": {},
   "outputs": [],
   "source": [
    "from random import shuffle\n",
    "\n",
    "def shuffle_list(my_list):\n",
    "    shuffle(my_list)\n",
    "    return my_list \n",
    "\n",
    "def player_guess():\n",
    "    \n",
    "    guess = '' \n",
    "    \n",
    "    while guess not in ['0','1','2']:\n",
    "        guess = input(\"Pick a number between 0,1,2 \")\n",
    "    \n",
    "    return int(guess)\n",
    "\n",
    "def check_guess(mylist,guess):\n",
    "    if my_list[guess] == 0:\n",
    "        print(\"Correct!!\")\n",
    "    else:\n",
    "        print(\"Wrong guess\")\n",
    "        print(my_list)\n",
    "    "
   ]
  },
  {
   "cell_type": "code",
   "execution_count": 82,
   "id": "2c8965c7",
   "metadata": {},
   "outputs": [
    {
     "name": "stdout",
     "output_type": "stream",
     "text": [
      "Pick a number between 0,1,2 2\n",
      "Wrong guess\n",
      "['', '0', '']\n"
     ]
    }
   ],
   "source": [
    "my_list=['0','','']\n",
    "\n",
    "mixed_up_List = shuffle_list(my_list)\n",
    "\n",
    "guess = player_guess()\n",
    "\n",
    "check_guess(mixed_up_List,guess)"
   ]
  },
  {
   "cell_type": "code",
   "execution_count": 83,
   "id": "8de7372e",
   "metadata": {},
   "outputs": [],
   "source": [
    "def myfunc(*args,**kwargs):\n",
    "    print(\"I get {} {} \".format(args[0],kwargs['food']))    "
   ]
  },
  {
   "cell_type": "code",
   "execution_count": 85,
   "id": "d3eb34a0",
   "metadata": {},
   "outputs": [
    {
     "name": "stdout",
     "output_type": "stream",
     "text": [
      "I get 10 eggs \n"
     ]
    }
   ],
   "source": [
    "myfunc(10,20,30,food='eggs',fruits='orange')"
   ]
  },
  {
   "cell_type": "code",
   "execution_count": 97,
   "id": "de32268d",
   "metadata": {},
   "outputs": [
    {
     "data": {
      "text/plain": [
       "'MacDonald'"
      ]
     },
     "execution_count": 97,
     "metadata": {},
     "output_type": "execute_result"
    }
   ],
   "source": [
    "name = 'macdonald'\n",
    "ch = name[0].upper()\n",
    "ch1 = name[3].upper()\n",
    "ch+name[1:3]+ch1+name[4:]\n"
   ]
  },
  {
   "cell_type": "code",
   "execution_count": 95,
   "id": "f7652e18",
   "metadata": {},
   "outputs": [
    {
     "data": {
      "text/plain": [
       "'Macdonald'"
      ]
     },
     "execution_count": 95,
     "metadata": {},
     "output_type": "execute_result"
    }
   ],
   "source": []
  },
  {
   "cell_type": "code",
   "execution_count": 100,
   "id": "568ddfcf",
   "metadata": {},
   "outputs": [],
   "source": [
    "def up_low(s):\n",
    "    d={\"upper\":0, \"lower\":0}\n",
    "    for c in s:\n",
    "        print(c)\n",
    "        if c.isupper():\n",
    "            d[\"upper\"]+=1\n",
    "        elif c.islower():\n",
    "            d[\"lower\"]+=1\n",
    "        else:\n",
    "            pass\n",
    "    print(\"Original String : \", s)\n",
    "    print(\"No. of Upper case characters : \", d[\"upper\"])\n",
    "    print(\"No. of Lower case Characters : \", d[\"lower\"])\n"
   ]
  },
  {
   "cell_type": "code",
   "execution_count": 101,
   "id": "76c46e5b",
   "metadata": {},
   "outputs": [
    {
     "name": "stdout",
     "output_type": "stream",
     "text": [
      "H\n",
      "e\n",
      "l\n",
      "l\n",
      "o\n",
      " \n",
      "M\n",
      "r\n",
      ".\n",
      " \n",
      "R\n",
      "o\n",
      "g\n",
      "e\n",
      "r\n",
      "s\n",
      ",\n",
      " \n",
      "h\n",
      "o\n",
      "w\n",
      " \n",
      "a\n",
      "r\n",
      "e\n",
      " \n",
      "y\n",
      "o\n",
      "u\n",
      " \n",
      "t\n",
      "h\n",
      "i\n",
      "s\n",
      " \n",
      "f\n",
      "i\n",
      "n\n",
      "e\n",
      " \n",
      "T\n",
      "u\n",
      "e\n",
      "s\n",
      "d\n",
      "a\n",
      "y\n",
      "?\n",
      "Original String :  Hello Mr. Rogers, how are you this fine Tuesday?\n",
      "No. of Upper case characters :  4\n",
      "No. of Lower case Characters :  33\n"
     ]
    }
   ],
   "source": [
    "s = 'Hello Mr. Rogers, how are you this fine Tuesday?'\n",
    "up_low(s)"
   ]
  },
  {
   "cell_type": "code",
   "execution_count": 102,
   "id": "c136045a",
   "metadata": {},
   "outputs": [],
   "source": [
    "\n",
    "def display_game(game_list):\n",
    "    print(\"Here is the game list\")\n",
    "    print(game_list)"
   ]
  },
  {
   "cell_type": "code",
   "execution_count": 103,
   "id": "050ee5c1",
   "metadata": {},
   "outputs": [
    {
     "name": "stdout",
     "output_type": "stream",
     "text": [
      "Here is the game list\n",
      "[1, 2, 3]\n"
     ]
    }
   ],
   "source": [
    "display_game([1,2,3])"
   ]
  },
  {
   "cell_type": "code",
   "execution_count": 104,
   "id": "fcfaf312",
   "metadata": {},
   "outputs": [],
   "source": [
    "def position_choice():\n",
    "    \n",
    "    choice = 'wrong'\n",
    "    \n",
    "    while choice not in ['0','1','2']:\n",
    "        \n",
    "        choice = input(\"Please pick any number from 0,1or 2 \")\n",
    "        if choice not in ['0','1','2']:\n",
    "            print(\"Invalid number . Please pick again\")\n",
    "    return int(choice)         "
   ]
  },
  {
   "cell_type": "code",
   "execution_count": 105,
   "id": "63f6d658",
   "metadata": {},
   "outputs": [
    {
     "name": "stdout",
     "output_type": "stream",
     "text": [
      "Please pick any number from 0,1or 2 24\n",
      "Invalid number . Please pick again\n",
      "Please pick any number from 0,1or 2 2\n"
     ]
    },
    {
     "data": {
      "text/plain": [
       "2"
      ]
     },
     "execution_count": 105,
     "metadata": {},
     "output_type": "execute_result"
    }
   ],
   "source": [
    "position_choice()\n"
   ]
  },
  {
   "cell_type": "code",
   "execution_count": 106,
   "id": "0d9a5eec",
   "metadata": {},
   "outputs": [],
   "source": [
    "def replacement_choice(game_list,position):\n",
    "    user_placement=input(\"Type a string to place at that position  \")\n",
    "    game_list[position] = user_placement\n",
    "    return game_list"
   ]
  },
  {
   "cell_type": "code",
   "execution_count": 111,
   "id": "559428ac",
   "metadata": {},
   "outputs": [
    {
     "name": "stdout",
     "output_type": "stream",
     "text": [
      "Type a string to place at that position  test\n"
     ]
    },
    {
     "data": {
      "text/plain": [
       "[1, 'test', 3]"
      ]
     },
     "execution_count": 111,
     "metadata": {},
     "output_type": "execute_result"
    }
   ],
   "source": [
    "game_list= [1,2,3]\n",
    "replacement_choice(game_list,1)\n"
   ]
  },
  {
   "cell_type": "raw",
   "id": "782eb974",
   "metadata": {},
   "source": [
    "hi"
   ]
  },
  {
   "cell_type": "code",
   "execution_count": 114,
   "id": "f0d18a19",
   "metadata": {},
   "outputs": [],
   "source": [
    "def game_onchoice():\n",
    "    \n",
    "    choice = 'wrong'\n",
    "    \n",
    "    while choice not in ['Y','N']:\n",
    "        \n",
    "        choice = input(\"Please type to continue with game (Y/N) \")\n",
    "        if choice not in ['Y','N']:\n",
    "            print(\"I don't understand . Please type (Y/N) \")\n",
    "    \n",
    "    if choice =='Y':\n",
    "        return True\n",
    "    else :\n",
    "        return False \n",
    "    \n",
    "    "
   ]
  },
  {
   "cell_type": "code",
   "execution_count": 115,
   "id": "7770aaf5",
   "metadata": {},
   "outputs": [
    {
     "name": "stdout",
     "output_type": "stream",
     "text": [
      "Please type to continue with game (Y/N) N\n"
     ]
    },
    {
     "data": {
      "text/plain": [
       "False"
      ]
     },
     "execution_count": 115,
     "metadata": {},
     "output_type": "execute_result"
    }
   ],
   "source": [
    "game_on()"
   ]
  },
  {
   "cell_type": "code",
   "execution_count": 116,
   "id": "ab45b610",
   "metadata": {},
   "outputs": [
    {
     "name": "stdout",
     "output_type": "stream",
     "text": [
      "Here is the game list\n",
      "[0, 1, 2]\n",
      "Please pick any number from 0,1or 2 44\n",
      "Invalid number . Please pick again\n",
      "Please pick any number from 0,1or 2 2\n",
      "Type a string to place at that position  hat\n",
      "Here is the game list\n",
      "[0, 1, 'hat']\n",
      "Please type to continue with game (Y/N) Y\n",
      "Here is the game list\n",
      "[0, 1, 'hat']\n",
      "Please pick any number from 0,1or 2 1\n",
      "Type a string to place at that position  test\n",
      "Here is the game list\n",
      "[0, 'test', 'hat']\n",
      "Please type to continue with game (Y/N) N\n"
     ]
    }
   ],
   "source": [
    "game_on = True \n",
    "game_list = [0,1,2]\n",
    "\n",
    "while game_on:\n",
    "    \n",
    "    display_game(game_list)\n",
    "    position = position_choice()\n",
    "    game_list=replacement_choice(game_list,position)\n",
    "    display_game(game_list)\n",
    "    game_on=game_onchoice()\n",
    "    \n",
    "    \n",
    "    \n",
    "    "
   ]
  },
  {
   "cell_type": "code",
   "execution_count": 122,
   "id": "f5078d15",
   "metadata": {},
   "outputs": [],
   "source": [
    "### Milestone Project -1 \n",
    "\n",
    "from IPython.display import clear_output\n",
    "\n",
    "def display_board(board):\n",
    "    \n",
    "    print(board[7]+ ' | ' +board[8]+' | '+board[9])\n",
    "    print(board[4]+' | '+board[5]+' | '+board[6])\n",
    "    print(board[1]+' | '+board[2]+' | '+board[3])\n",
    "\n"
   ]
  },
  {
   "cell_type": "code",
   "execution_count": 123,
   "id": "e1e7b354",
   "metadata": {},
   "outputs": [
    {
     "name": "stdout",
     "output_type": "stream",
     "text": [
      " |  | \n",
      " |  | \n",
      " |  | \n"
     ]
    }
   ],
   "source": [
    "board=['','','','','','','','','','']\n",
    "display_board(board)"
   ]
  },
  {
   "cell_type": "code",
   "execution_count": null,
   "id": "d385caa5",
   "metadata": {},
   "outputs": [],
   "source": []
  },
  {
   "cell_type": "code",
   "execution_count": null,
   "id": "71c85bb2",
   "metadata": {},
   "outputs": [],
   "source": []
  }
 ],
 "metadata": {
  "kernelspec": {
   "display_name": "Python 3 (ipykernel)",
   "language": "python",
   "name": "python3"
  },
  "language_info": {
   "codemirror_mode": {
    "name": "ipython",
    "version": 3
   },
   "file_extension": ".py",
   "mimetype": "text/x-python",
   "name": "python",
   "nbconvert_exporter": "python",
   "pygments_lexer": "ipython3",
   "version": "3.11.4"
  }
 },
 "nbformat": 4,
 "nbformat_minor": 5
}
