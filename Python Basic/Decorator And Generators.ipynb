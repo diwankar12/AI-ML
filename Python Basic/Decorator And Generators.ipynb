{
 "cells": [
  {
   "cell_type": "code",
   "execution_count": 1,
   "id": "4f8ff0b4",
   "metadata": {},
   "outputs": [],
   "source": [
    "#define a function "
   ]
  },
  {
   "cell_type": "code",
   "execution_count": 2,
   "id": "4c87ccf8",
   "metadata": {},
   "outputs": [],
   "source": [
    "def new_decorator(func):\n",
    "    \n",
    "    def some_func():\n",
    "        \n",
    "        print(\"inside some_func\")\n",
    "        \n",
    "        func()\n",
    "        \n",
    "        print(\"still inside , executing last line\")\n",
    "    \n",
    "    return some_func "
   ]
  },
  {
   "cell_type": "code",
   "execution_count": 3,
   "id": "fa175799",
   "metadata": {},
   "outputs": [],
   "source": [
    "def greet():\n",
    "    print('Hello !!!')"
   ]
  },
  {
   "cell_type": "code",
   "execution_count": 5,
   "id": "4ab18e46",
   "metadata": {},
   "outputs": [],
   "source": [
    "func = new_decorator(greet)"
   ]
  },
  {
   "cell_type": "code",
   "execution_count": 10,
   "id": "87e5bdfa",
   "metadata": {},
   "outputs": [
    {
     "name": "stdout",
     "output_type": "stream",
     "text": [
      "inside some_func\n",
      "Hello !!!\n",
      "still inside , executing last line\n"
     ]
    }
   ],
   "source": [
    "func()"
   ]
  },
  {
   "cell_type": "code",
   "execution_count": 11,
   "id": "51fac9d9",
   "metadata": {},
   "outputs": [],
   "source": [
    "@new_decorator\n",
    "def greet():\n",
    "    print('Hello !!!')"
   ]
  },
  {
   "cell_type": "code",
   "execution_count": 12,
   "id": "172d11a6",
   "metadata": {},
   "outputs": [
    {
     "name": "stdout",
     "output_type": "stream",
     "text": [
      "inside some_func\n",
      "Hello !!!\n",
      "still inside , executing last line\n"
     ]
    }
   ],
   "source": [
    "greet()"
   ]
  },
  {
   "cell_type": "code",
   "execution_count": 13,
   "id": "8b45bc89",
   "metadata": {},
   "outputs": [],
   "source": [
    "x, y = 45, \"Great\""
   ]
  },
  {
   "cell_type": "code",
   "execution_count": 14,
   "id": "1339f95b",
   "metadata": {},
   "outputs": [
    {
     "data": {
      "text/plain": [
       "'Great'"
      ]
     },
     "execution_count": 14,
     "metadata": {},
     "output_type": "execute_result"
    }
   ],
   "source": [
    "y"
   ]
  },
  {
   "cell_type": "code",
   "execution_count": 15,
   "id": "4eaf844d",
   "metadata": {},
   "outputs": [],
   "source": [
    "a = 1+5j\n"
   ]
  },
  {
   "cell_type": "code",
   "execution_count": 16,
   "id": "dfef55ed",
   "metadata": {},
   "outputs": [
    {
     "data": {
      "text/plain": [
       "complex"
      ]
     },
     "execution_count": 16,
     "metadata": {},
     "output_type": "execute_result"
    }
   ],
   "source": [
    "type(a)"
   ]
  },
  {
   "cell_type": "code",
   "execution_count": 17,
   "id": "25bb0899",
   "metadata": {},
   "outputs": [
    {
     "data": {
      "text/plain": [
       "'PythonPython'"
      ]
     },
     "execution_count": 17,
     "metadata": {},
     "output_type": "execute_result"
    }
   ],
   "source": [
    "string = \"Python\"\n",
    "string*2"
   ]
  },
  {
   "cell_type": "code",
   "execution_count": 30,
   "id": "0f56fa87",
   "metadata": {},
   "outputs": [],
   "source": [
    "#generators\n",
    "def without_gen_ex(n):\n",
    "    ls =[]\n",
    "    for val in range(n):\n",
    "        ls.append(val**3)\n",
    "    return ls    \n"
   ]
  },
  {
   "cell_type": "code",
   "execution_count": 31,
   "id": "866a95d8",
   "metadata": {},
   "outputs": [],
   "source": [
    "def gen_ex(n):\n",
    "    for val in range(n):\n",
    "        yield val**3"
   ]
  },
  {
   "cell_type": "code",
   "execution_count": 32,
   "id": "1df577b8",
   "metadata": {},
   "outputs": [
    {
     "name": "stdout",
     "output_type": "stream",
     "text": [
      "0\n",
      "1\n",
      "8\n"
     ]
    }
   ],
   "source": [
    "for x in gen_ex(3):\n",
    "    print(x)\n"
   ]
  },
  {
   "cell_type": "code",
   "execution_count": 33,
   "id": "67d818c9",
   "metadata": {},
   "outputs": [],
   "source": [
    "ls2 = without_gen_ex(3)"
   ]
  },
  {
   "cell_type": "code",
   "execution_count": 34,
   "id": "b73bd192",
   "metadata": {},
   "outputs": [
    {
     "name": "stdout",
     "output_type": "stream",
     "text": [
      "[0, 1, 8]\n"
     ]
    }
   ],
   "source": [
    "print(ls2)"
   ]
  },
  {
   "cell_type": "code",
   "execution_count": 35,
   "id": "65f5bed9",
   "metadata": {},
   "outputs": [
    {
     "data": {
      "text/plain": [
       "10"
      ]
     },
     "execution_count": 35,
     "metadata": {},
     "output_type": "execute_result"
    }
   ],
   "source": [
    "int(10.2)"
   ]
  },
  {
   "cell_type": "code",
   "execution_count": 36,
   "id": "f78e7436",
   "metadata": {},
   "outputs": [
    {
     "data": {
      "text/plain": [
       "15.0"
      ]
     },
     "execution_count": 36,
     "metadata": {},
     "output_type": "execute_result"
    }
   ],
   "source": [
    "float(\"15\")"
   ]
  },
  {
   "cell_type": "code",
   "execution_count": null,
   "id": "e86d2738",
   "metadata": {},
   "outputs": [],
   "source": []
  }
 ],
 "metadata": {
  "kernelspec": {
   "display_name": "Python 3 (ipykernel)",
   "language": "python",
   "name": "python3"
  },
  "language_info": {
   "codemirror_mode": {
    "name": "ipython",
    "version": 3
   },
   "file_extension": ".py",
   "mimetype": "text/x-python",
   "name": "python",
   "nbconvert_exporter": "python",
   "pygments_lexer": "ipython3",
   "version": "3.11.4"
  }
 },
 "nbformat": 4,
 "nbformat_minor": 5
}
